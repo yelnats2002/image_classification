{
 "cells": [
  {
   "cell_type": "code",
   "execution_count": 1,
   "metadata": {},
   "outputs": [],
   "source": [
    "import os\n",
    "\n",
    "# selenuim 4\n",
    "from selenium import webdriver\n",
    "from selenium.webdriver.common.by import By\n",
    "\n",
    "import time\n",
    "#from selenium.webdriver.chrome.service import Service as ChromeService\n",
    "#from webdriver_manager.chrome import ChromeDriverManager"
   ]
  },
  {
   "cell_type": "code",
   "execution_count": 2,
   "metadata": {},
   "outputs": [
    {
     "name": "stdout",
     "output_type": "stream",
     "text": [
      "0 1\n",
      "1 2\n",
      "2 3\n",
      "3 4\n",
      "4 5\n"
     ]
    }
   ],
   "source": [
    "s1= (1,2,3,4,5)\n",
    "for i, elem in enumerate(s1):\n",
    "    print(i,elem)"
   ]
  },
  {
   "cell_type": "code",
   "execution_count": 2,
   "metadata": {},
   "outputs": [],
   "source": [
    "from PIL import Image"
   ]
  },
  {
   "cell_type": "code",
   "execution_count": 50,
   "metadata": {},
   "outputs": [],
   "source": [
    "import os\n",
    "\n",
    "# selenuim 4\n",
    "from selenium import webdriver\n",
    "from selenium.webdriver.common.by import By\n",
    "\n",
    "import time\n",
    "#from selenium.webdriver.chrome.service import Service as ChromeService\n",
    "#from webdriver_manager.chrome import ChromeDriverManager\n",
    "\n",
    "import requests\n",
    "import io\n",
    "from PIL import Image\n",
    "\n",
    "def get_urls(query: str, delay: int) ->set:\n",
    "    images_urls= set()\n",
    "    browser= webdriver.Chrome()\n",
    "    browser.get('https://images.google.com/')\n",
    "    search_box= browser.find_element(By.CSS_SELECTOR, '#APjFqb.gLFyf')\n",
    "    search_box.send_keys(query)\n",
    "    search_box.submit()\n",
    "\n",
    "    time.sleep(delay)\n",
    "    browser.execute_script('window.scrollTo(0, document.body.scrollHeight);')\n",
    "    time.sleep(delay)\n",
    "    browser.execute_script('window.scrollTo(0, document.body.scrollHeight);')\n",
    "    time.sleep(delay)\n",
    "    browser.execute_script('window.scrollTo(0, document.body.scrollHeight);')\n",
    "    thumbnails = browser.find_elements(By.CLASS_NAME, \"Q4LuWd\")\n",
    "    for img in thumbnails:\n",
    "        try:\n",
    "            img.click()\n",
    "            time.sleep(1)\n",
    "        except:\n",
    "            continue\n",
    "        images= browser.find_elements(By.CLASS_NAME,\"iPVvYb\")\n",
    "        for image in images:\n",
    "          if image.get_attribute('src') and 'http' in image.get_attribute('src'):\n",
    "             images_urls.add(image.get_attribute('src'))\n",
    "\n",
    "    return images_urls"
   ]
  },
  {
   "cell_type": "code",
   "execution_count": 43,
   "metadata": {},
   "outputs": [],
   "source": [
    "ans= get_urls('narendra modi', 2)"
   ]
  },
  {
   "cell_type": "code",
   "execution_count": 44,
   "metadata": {},
   "outputs": [
    {
     "name": "stdout",
     "output_type": "stream",
     "text": [
      "{'https://images.news18.com/ibnlive/uploads/2022/05/pm-modi-4-16538967554x3.jpg', 'https://www.livemint.com/lm-img/img/2023/07/13/600x338/Prime-Minister-Narendra-Modi---REUTERS-_1689228183057_1689228191022.jpg', 'https://gumlet.assettype.com/swarajya%2F2023-01%2F6ecb494c-77e0-4064-b404-9a84087a8c58%2FNarendra_Modi_2_2.jpg?q=75&auto=format%2Ccompress&w=400&dpr=2.6', 'https://images.moneycontrol.com/static-mcnews/2019/02/Narendra-modi-770x433.jpg?impolicy=website&width=770&height=431', 'https://images.newindianexpress.com/uploads/user/imagelibrary/2023/7/5/w1200X800/Narendra_Modi.jpg', 'https://etimg.etb2bimg.com/photo/96493840.cms', 'https://m.media-amazon.com/images/I/81Y9N97S6gL._AC_UF894,1000_QL80_.jpg', 'https://c.ndtvimg.com/2023-05/4vajgd1o_narendra-modi-ani_625x300_13_May_23.jpg?im=Resize=(1230,900)', 'https://cdn.dnaindia.com/sites/default/files/2023/01/18/2567115-2564286-pm-modi.jpg?im=FitAndFill=(1200,900)', 'https://images.mid-day.com/images/images/2023/feb/Narendra-Modi-AFP_d.jpg', 'https://images.news18.com/ibnlive/uploads/2023/01/pm-modi-2-1.jpg', 'https://upload.wikimedia.org/wikipedia/commons/c/c4/Official_Photograph_of_Prime_Minister_Narendra_Modi_Portrait.png', 'https://cdn.britannica.com/07/171607-050-1967B34C/Narendra-Modi.jpg', 'https://images.hindustantimes.com/img/2022/12/14/550x309/Prime-Minister-Narendra-Modi_1671015192309_1671015192455_1671015192455.jpg', 'https://s01.sgp1.cdn.digitaloceanspaces.com/article/191486-crtgduisdx-1687415018.jpg', 'https://cdn.narendramodi.in/cmsuploads/0.35802700_1655647694_2-pm-modi-launches-torch-relay-for-44th-chess-olympiad.jpg', 'https://www.thestatesman.com/wp-content/uploads/2022/09/03_Merged.jpg', 'https://www.koimoi.com/wp-content/new-galleries/2023/03/kapil-sharma-invited-pm-narendra-modi-on-his-show-got-abhi-toh-mere-virodhi-bohot-comedy-kar-rahe-hai-as-a-reply-01.jpg', 'https://akm-img-a-in.tosshub.com/indiatoday/images/story/202109/narendra-modi-pti010721_1_1200x768.jpeg?size=690:388', 'https://images.moneycontrol.com/static-mcnews/2022/12/Modi-A-770x433.jpg?impolicy=website&width=770&height=431', 'https://images.news18.com/ibnlive/uploads/2022/05/narendra-modi.jpg', 'https://static.toiimg.com/photo/msid-101150151/101150151.jpg', 'https://english.cdn.zeenews.com/sites/default/files/2022/09/16/1091311-narendra-modi-tw1.jpg', 'https://c.ndtvimg.com/2023-05/tp9hlkv8_pm-modi-pti_625x300_11_May_23.jpg', 'https://gumlet.assettype.com/freepressjournal/2021-10/1dca6857-4c5a-4955-85f8-7fed54c40b5c/PM_Modi_w.jpg', 'https://st.adda247.com/https://wpassets.adda247.com/wp-content/uploads/multisite/sites/5/2022/04/13080458/modi-6-16487841703x2-1.jpg', 'https://thebridge.in/h-upload/2022/01/02/21036-pm-modi.webp', 'https://images.moneycontrol.com/static-mcnews/2022/12/1-modi-cast-vote-gujarat-elections-phase-2-770x433.jpg?impolicy=website&width=770&height=431', 'https://imgnew.outlookindia.com/uploadimage/library/16_9/16_9_5/IMAGE_1663400737.jpg', 'https://cdn.narendramodi.in/cmsuploads/0.55374400_1655973065_english-translation-of-the-address-by-prime-minister-shri-narendra-modi-at-the-opening-ceremony-of-brics-business-forum-2022.jpg', 'https://akm-img-a-in.tosshub.com/indiatoday/images/story/202303/pm_modi-cdk_0-one_one.jpg?VersionId=VVFdpnU.Bh.rt8Y1sVYxnoEax2p_iJs7', 'https://cdn.narendramodi.in/cmsuploads/0.53891700_1595000004_636-2-prime-minister-narendra-modi-s-keynote-address-at-united-nations-economic-and-social-council-session.jpg', 'https://akm-img-a-in.tosshub.com/indiatoday/images/story/202304/rishi_sunak_pm_modi-three_four.jpg?VersionId=0Ks_7AoA_Pfxegy40IppvhCWF89pfk3e', 'https://m.economictimes.com/thumb/msid-95127611,width-1200,height-900,resizemode-4,imgsize-86668/modi-reuters.jpg', 'https://api.time.com/wp-content/uploads/2015/05/modi-india.jpg?quality=85&w=2255', 'https://media.gettyimages.com/id/1350087939/photo/indian-prime-minister-narendra-modi-meets-italian-prime-minister-mario-draghi-before-their.jpg?s=612x612&w=gi&k=20&c=Qje6ktGyYXaA0gfWJ64suXyacJ6bDU5ZVzE8nRL-kAY=', 'https://bsmedia.business-standard.com/_media/bs/img/article/2023-06/02/full/1685704080-4641.jpg?im=FeatureCrop,size=(826,465)', 'https://i0.wp.com/www.opindia.com/wp-content/uploads/2023/03/narendra-modi-speaking-at-india-today-conclave-2023.jpg?resize=696%2C398&ssl=1', 'https://akm-img-a-in.tosshub.com/businesstoday/images/story/202307/whatsapp_image_2023-07-04_at_21-sixteen_nine.jpeg?size=948:533', 'https://www.hindustantimes.com/ht-img/img/2023/07/30/550x309/Prime-Minister-Narendra-Modi---PTI-_1689929615347_1690719785163.jpg', 'https://img.theweek.in/content/dam/week/magazine/theweek/cover/images/2023/5/26/24-Narendra-Modi.jpg', 'https://www.deccanherald.com/sites/dh/files/styles/article_detail/public/articleimages/2023/06/13/prime-minister-narendra-modi-addresses-an-event-to-distribute-about-70000-appointment-letters-to-ne-1227468-1686672576.jpg?itok=5VeCL8xW', 'https://images.yourstory.com/cs/wordpress/2019/01/SS-with-PM.png?w=1152&fm=auto&ar=2:1&mode=crop&crop=faces', 'https://static.toiimg.com/thumb/msid-102293023,width-400,resizemode-4/102293023.jpg', 'https://media.cnn.com/api/v1/images/stellar/prod/230619074733-modi-and-biden-bali-2022-file.jpg?c=16x9&q=h_720,w_1280,c_fill', 'https://www.hindustantimes.com/ht-img/img/2023/06/11/1600x900/Prime-Minister-Narendra-Modi-addresses-the-first-e_1686480031966.jpg', 'https://bsmedia.business-standard.com/_media/bs/img/misc/2022-12/08/full/pm-modi-1670510641-43153510.jpg?im=FeatureCrop,size=(826,465)', 'https://assets.telegraphindia.com/telegraph/2022/Mar/1648070834_modi.jpg', 'https://www.economist.com/cdn-cgi/image/width=1424,quality=80,format=auto/media-assets/image/20230617_ASD001.jpg', 'https://www.hindustantimes.com/ht-img/img/2023/06/20/550x309/INDIA-G20-AFRICA-0_1687219915994_1687227542452.JPG', 'https://www.pmindia.gov.in/wp-content/themes/pmindia2015/images/know-the-pm.jpg', 'https://upload.wikimedia.org/wikipedia/commons/thumb/7/7d/Official_portrait_of_Narendra_Modi%2C_2022_%28cropped%29.jpg/300px-Official_portrait_of_Narendra_Modi%2C_2022_%28cropped%29.jpg', 'https://www.koimoi.com/wp-content/new-galleries/2023/01/akshay-kumar-lauds-pm-narendra-modi-supporting-bollywood-amid-pathaan-controversy-002.jpg', 'https://www.livelaw.in/h-upload/2022/11/26/446208-prime-minister-narendra-modi.jpg', 'https://indianexpress.com/wp-content/uploads/2023/05/modi-aus-2.jpg?resize=600,334', 'https://www.hindustantimes.com/ht-img/img/2023/07/18/550x309/PTI04-25-2023-000034A-0_1689649347706_1689649375731.jpg', 'https://c.ndtvimg.com/2023-07/5gcf91gk_narendra-modi-ani_625x300_04_July_23.jpg', 'https://static.theprint.in/wp-content/uploads/2022/09/20220907123L.jpg', 'https://images.indianexpress.com/2023/07/PM-Modi-Pune-visit.jpg', 'https://gumlet.assettype.com/greaterkashmir%2F2022-05%2F83ed6f12-d561-4b8c-93fa-3fe87031039e%2Fmodi.bmp?format=auto', 'https://www.thestatesman.com/wp-content/uploads/2023/02/PM-modi.jpg', 'https://www.livemint.com/lm-img/img/2023/06/23/600x338/AP06-22-2023-000303B-0_1687444128198_1687480905104.jpg', 'https://akm-img-a-in.tosshub.com/indiatoday/images/story/202112/Newsmaker-Narendra-Modi-Jan10-.jpg?size=690:388', 'https://img.theweek.in/content/dam/week/news/india/images/2022/6/28/narendra-modi-pti280622.jpg', 'https://cdn.zeebiz.com/sites/default/files/2023/06/11/246630-narendra-modi-pti.png?im=FitAndFill=(1200,900)', 'https://pbs.twimg.com/media/FVgEZzkaUAE6C7i?format=jpg&name=large', 'https://assets.telegraphindia.com/telegraph/2023/Jan/1673420787_modi.jpg', 'https://c.ndtvimg.com/2023-02/soeuosss_narendra-modi-pti_625x300_14_February_23.jpg?im=Resize=(1230,900)', 'https://www.koimoi.com/wp-content/new-galleries/2023/06/pm-modi-says-avengers-writers-are-writing-scripts-for-rahul-gandhi-01.jpg', 'https://i.ytimg.com/vi/KEx6Fe2TJSo/maxresdefault.jpg', 'https://akm-img-a-in.tosshub.com/indiatoday/images/media_bank/202307/narendra-modi-in-australia-310904-16x9.jpg?VersionId=qV1.8Hi9jB12mW8Xu1Pbp9eiL4jfxszs&size=690:388', 'https://img.etimg.com/thumb/msid-101146953,width-1200,height-900,resizemode-4,imgsize-63078/pm-modi-us-visit-2023-news-live-joe-biden-latest-updates-june-2023.jpg', 'https://img.staticmb.com/mbcontent/images/uploads/2022/12/shutterstock_346298903%20(1).jpg', 'https://images.livemint.com/img/2022/09/17/600x338/Prime_Minister_1663413948981_1663413949174_1663413949174.jpg', 'https://static.toiimg.com/thumb/msid-101419465,width-1280,resizemode-4/101419465.jpg', 'https://i1.sndcdn.com/avatars-000647693748-k3ef4g-t500x500.jpg', 'https://cdn.narendramodi.in/cmsuploads/0.60687400_1689750631_636x400-prime-minister-narendra-modi-s-speech-at-nda-leaders-meeting-in-new-delhi.jpg', 'https://wallpapers.com/images/featured/narendra-modi-mf9ls48bk725z350.jpg', 'https://www.opindia.com/wp-content/uploads/2023/05/narendra-modi-2023-05-27-17-22-39.png', 'https://m.media-amazon.com/images/I/51t7QpsyOJL._AC_UF1000,1000_QL80_.jpg', 'https://www.deccanherald.com/sites/dh/files/articleimages/2023/07/31/modi-pi-1242629-1690827265.jpg', 'https://m.media-amazon.com/images/I/91t86JIVbGL._AC_UF1000,1000_QL80_.jpg', 'https://www.deccanherald.com/sites/dh/files/articleimages/2023/03/01/narendra-modi-pti-1-1193128-1677677883.jpg', 'https://cdn.zeebiz.com/sites/default/files/2022/09/17/200854-narendramodibirthday.jpg', 'https://cdn.narendramodi.in/cmsuploads/0.80567100_1642760069_4-prime-minister-narendra-modi-inaugurates-new-circuit-house-at-somnath-in-gujarat.jpg', 'https://images.hindustantimes.com/tech/img/2023/07/05/960x540/ANI-20230704153-0_1688547701695_1688547723676.jpg', 'https://upload.wikimedia.org/wikipedia/commons/2/2e/Prime_Minister%2C_Shri_Narendra_Modi%2C_in_New_Delhi_on_August_08%2C_2019_%28cropped%29.jpg', 'https://sundayguardianlive.com/wp-content/uploads/2023/05/20230521294L.jpg', 'https://www.deccanherald.com/sites/dh/files/styles/article_detail/public/articleimages/2023/04/14/modi-pti-1209582-1681453106.jpg?itok=5kZ-V9oB', 'https://www.livemint.com/lm-img/img/2023/07/06/600x338/Mann_Ki_Baat_1682835555493_1688634359092.jpg', 'https://c.ndtvimg.com/2023-07/vi9ubptg_narendra-modi_625x300_29_July_23.jpg'}\n"
     ]
    }
   ],
   "source": [
    "print(ans)"
   ]
  },
  {
   "cell_type": "code",
   "execution_count": 53,
   "metadata": {},
   "outputs": [],
   "source": [
    "def download_images(query, delay, no_of_images):\n",
    "    image_urls= get_urls(query, delay)\n",
    "    try:\n",
    "        if image_urls is not None:\n",
    "            os.makedirs(query, exist_ok=True)\n",
    "            for i, url in enumerate(image_urls):\n",
    "                if i==no_of_images:\n",
    "                   break\n",
    "                image_content= requests.get(url).content\n",
    "                image_file=  io.BytesIO(image_content)\n",
    "                image= Image.open(image_file)\n",
    "                file_path= os.path.join(os.path.curdir, query, str(i)+ \".jpg\")\n",
    "                \n",
    "                with open(file_path, 'wb') as f:\n",
    "                   image.save(f, \"JPEG\")\n",
    "            return 'images download successfully'\n",
    "        else:\n",
    "            return \"No Images found\"\n",
    "    except Exception as e:\n",
    "        pass"
   ]
  },
  {
   "cell_type": "code",
   "execution_count": 57,
   "metadata": {},
   "outputs": [],
   "source": [
    "download_images('barak obama', 2,40)"
   ]
  },
  {
   "cell_type": "code",
   "execution_count": null,
   "metadata": {},
   "outputs": [],
   "source": [
    "import os"
   ]
  }
 ],
 "metadata": {
  "kernelspec": {
   "display_name": "Python 3",
   "language": "python",
   "name": "python3"
  },
  "language_info": {
   "codemirror_mode": {
    "name": "ipython",
    "version": 3
   },
   "file_extension": ".py",
   "mimetype": "text/x-python",
   "name": "python",
   "nbconvert_exporter": "python",
   "pygments_lexer": "ipython3",
   "version": "3.8.17"
  },
  "orig_nbformat": 4
 },
 "nbformat": 4,
 "nbformat_minor": 2
}
